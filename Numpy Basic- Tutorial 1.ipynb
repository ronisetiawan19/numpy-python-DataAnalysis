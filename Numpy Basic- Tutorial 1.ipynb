{
 "cells": [
  {
   "cell_type": "markdown",
   "id": "91f0d235",
   "metadata": {},
   "source": [
    "# Load in Numpy(remember to pip install numpy first)"
   ]
  },
  {
   "cell_type": "markdown",
   "id": "cb1054aa",
   "metadata": {},
   "source": [
    "NumPy (Numerical Python) adalah sebuah library atau pustaka Python yang digunakan untuk melakukan operasi numerik pada array multidimensi. NumPy menyediakan struktur data yang efisien, seperti array N-dimensi (ndarray), yang memungkinkan Anda untuk melakukan operasi matematika dan logika pada array dengan mudah.\n",
    "\n",
    "NumPy merupakan salah satu pustaka yang paling penting dalam ekosistem ilmu data Python karena menyediakan banyak fungsi dan metode untuk memanipulasi array dan melakukan komputasi numerik. Pustaka ini sangat efisien dalam melakukan operasi pada array besar, sehingga sering digunakan dalam analisis data, komputasi ilmiah, dan pembelajaran mesin.\n",
    "\n",
    "Berikut adalah beberapa fitur utama dari NumPy:\n",
    "\n",
    "1. Array N-dimensi: NumPy menyediakan objek ndarray yang merupakan array N-dimensi. Anda dapat membuat array dengan berbagai dimensi, seperti vektor (1D), matriks (2D), atau array dengan dimensi yang lebih tinggi.\n",
    "\n",
    "2. Operasi matematika: NumPy menyediakan berbagai fungsi matematika yang dapat diterapkan pada array, seperti penjumlahan, pengurangan, perkalian, pembagian, eksponen, dan fungsi trigonometri. Fungsi-fungsi ini dapat diterapkan pada seluruh array atau elemen per elemen.\n",
    "\n",
    "3. Broadcasting: NumPy memungkinkan broadcasting, yaitu mengubah bentuk array secara otomatis untuk memungkinkan operasi matematika antara array dengan bentuk yang berbeda. Hal ini memungkinkan Anda untuk melakukan operasi pada array dengan ukuran yang berbeda tanpa perlu mengulangi atau memperluas array.\n",
    "\n",
    "4. Operasi statistik: NumPy menyediakan fungsi untuk menghitung statistik pada array, seperti mean, median, standar deviasi, variansi, dan lainnya.\n",
    "\n",
    "5. Pengindeksan dan pemotongan array: Anda dapat mengakses dan memanipulasi elemen-elemen dalam array dengan menggunakan indeks dan slicing. NumPy mendukung pengindeksan berbasis integer, boolean, atau kondisi logika.\n",
    "\n",
    "NumPy merupakan bagian dari ekosistem ilmu data Python yang juga termasuk pustaka-pustaka seperti Pandas, Matplotlib, dan Scikit-learn. Dengan menggunakan NumPy, Anda dapat melakukan operasi numerik dengan cepat dan efisien pada array multidimensi dalam Python."
   ]
  },
  {
   "cell_type": "markdown",
   "id": "bec9ae8d",
   "metadata": {},
   "source": [
    "#pip install numpy"
   ]
  },
  {
   "cell_type": "code",
   "execution_count": 49,
   "id": "5b7c6073",
   "metadata": {},
   "outputs": [],
   "source": [
    "import numpy as np"
   ]
  },
  {
   "cell_type": "markdown",
   "id": "41973c0a",
   "metadata": {},
   "source": [
    "# The Basics Array\n",
    "Dalam NumPy, dimensi mengacu pada jumlah sumbu yang ada dalam array. NumPy mendukung array dengan dimensi yang bervariasi, mulai dari array satu dimensi hingga array multi dimensi.\n",
    "\n",
    "Anda dapat menggunakan atribut ndim untuk mendapatkan jumlah dimensi dari suatu array NumPy. Berikut ini adalah contoh penggunaannya:"
   ]
  },
  {
   "cell_type": "markdown",
   "id": "5cd48517",
   "metadata": {},
   "source": [
    "Create One dimensional array :"
   ]
  },
  {
   "cell_type": "code",
   "execution_count": 105,
   "id": "dec94001",
   "metadata": {
    "scrolled": true
   },
   "outputs": [
    {
     "name": "stdout",
     "output_type": "stream",
     "text": [
      "[1 2 3]\n"
     ]
    }
   ],
   "source": [
    "a = np.array([1,2,3])\n",
    "print(a)"
   ]
  },
  {
   "cell_type": "markdown",
   "id": "c442b0fa",
   "metadata": {},
   "source": [
    "# Get Dimension (ndim)"
   ]
  },
  {
   "cell_type": "code",
   "execution_count": 50,
   "id": "a846576e",
   "metadata": {},
   "outputs": [
    {
     "data": {
      "text/plain": [
       "1"
      ]
     },
     "execution_count": 50,
     "metadata": {},
     "output_type": "execute_result"
    }
   ],
   "source": [
    "a.ndim"
   ]
  },
  {
   "cell_type": "markdown",
   "id": "d1a5aa08",
   "metadata": {},
   "source": [
    "Create Two dimensional array :"
   ]
  },
  {
   "cell_type": "code",
   "execution_count": 8,
   "id": "52fa3fbe",
   "metadata": {},
   "outputs": [
    {
     "name": "stdout",
     "output_type": "stream",
     "text": [
      "[[1 2]\n",
      " [3 4]\n",
      " [5 6]]\n"
     ]
    }
   ],
   "source": [
    "b = np.array([[1,2],[3,4],[5,6]])\n",
    "print(b)"
   ]
  },
  {
   "cell_type": "code",
   "execution_count": 9,
   "id": "d06f634b",
   "metadata": {},
   "outputs": [
    {
     "data": {
      "text/plain": [
       "2"
      ]
     },
     "execution_count": 9,
     "metadata": {},
     "output_type": "execute_result"
    }
   ],
   "source": [
    "b.ndim"
   ]
  },
  {
   "cell_type": "markdown",
   "id": "0107048f",
   "metadata": {},
   "source": [
    "# Get Item Size Property (itemsize)\n",
    "Properti itemsize digunakan dalam NumPy untuk mengambil ukuran dalam byte dari setiap elemen dalam array. Properti ini sangat berguna ketika kita ingin mengetahui berapa banyak ruang yang ditempati oleh setiap elemen dalam array.\n",
    "\n",
    "Berikut ini adalah contoh penggunaan properti itemsize:"
   ]
  },
  {
   "cell_type": "code",
   "execution_count": 31,
   "id": "884dc082",
   "metadata": {},
   "outputs": [
    {
     "data": {
      "text/plain": [
       "4"
      ]
     },
     "execution_count": 31,
     "metadata": {},
     "output_type": "execute_result"
    }
   ],
   "source": [
    "a.itemsize"
   ]
  },
  {
   "cell_type": "markdown",
   "id": "c6260f4d",
   "metadata": {},
   "source": [
    "Dalam contoh ini, kita membuat array a dengan tipe data integer 32-bit. Kemudian, kita menggunakan properti itemsize pada array a untuk mendapatkan ukuran dalam byte dari setiap elemen dalam array. Hasilnya adalah 4, yang menunjukkan bahwa setiap elemen dalam array a membutuhkan 4 byte ruang dalam memori."
   ]
  },
  {
   "cell_type": "markdown",
   "id": "44d92815",
   "metadata": {},
   "source": [
    "# Get Data Type Property (dtype)\n",
    "Properti dtype digunakan dalam NumPy untuk mendapatkan tipe data dari elemen-elemen dalam array. Properti ini berguna untuk mengetahui tipe data yang digunakan dalam array, seperti bilangan bulat, bilangan desimal, string, dll.\n",
    "\n",
    "Berikut ini adalah contoh penggunaan properti dtype:"
   ]
  },
  {
   "cell_type": "code",
   "execution_count": 28,
   "id": "eac90017",
   "metadata": {},
   "outputs": [
    {
     "data": {
      "text/plain": [
       "dtype('int32')"
      ]
     },
     "execution_count": 28,
     "metadata": {},
     "output_type": "execute_result"
    }
   ],
   "source": [
    "a.dtype"
   ]
  },
  {
   "cell_type": "code",
   "execution_count": 121,
   "id": "4a0d5f73",
   "metadata": {},
   "outputs": [
    {
     "name": "stdout",
     "output_type": "stream",
     "text": [
      "[[1 2]\n",
      " [3 4]\n",
      " [5 6]]\n"
     ]
    },
    {
     "data": {
      "text/plain": [
       "4"
      ]
     },
     "execution_count": 121,
     "metadata": {},
     "output_type": "execute_result"
    }
   ],
   "source": [
    "b = np.array([[1,2],[3,4],[5,6]])\n",
    "print(b)\n",
    "b.itemsize"
   ]
  },
  {
   "cell_type": "code",
   "execution_count": 112,
   "id": "334ff751",
   "metadata": {},
   "outputs": [
    {
     "data": {
      "text/plain": [
       "dtype('int32')"
      ]
     },
     "execution_count": 112,
     "metadata": {},
     "output_type": "execute_result"
    }
   ],
   "source": [
    "b.dtype"
   ]
  },
  {
   "cell_type": "code",
   "execution_count": 106,
   "id": "5790d2ea",
   "metadata": {},
   "outputs": [
    {
     "name": "stdout",
     "output_type": "stream",
     "text": [
      "['a' 'b' 'c']\n"
     ]
    }
   ],
   "source": [
    "c = np.array(['a', 'b', 'c'])\n",
    "print(c)"
   ]
  },
  {
   "cell_type": "code",
   "execution_count": 107,
   "id": "0a3798c7",
   "metadata": {},
   "outputs": [
    {
     "data": {
      "text/plain": [
       "dtype('<U1')"
      ]
     },
     "execution_count": 107,
     "metadata": {},
     "output_type": "execute_result"
    }
   ],
   "source": [
    "c.dtype"
   ]
  },
  {
   "cell_type": "markdown",
   "id": "ac466acc",
   "metadata": {},
   "source": [
    "# Change Data Type Of Element"
   ]
  },
  {
   "cell_type": "code",
   "execution_count": 109,
   "id": "71e32eed",
   "metadata": {},
   "outputs": [
    {
     "data": {
      "text/plain": [
       "dtype('float64')"
      ]
     },
     "execution_count": 109,
     "metadata": {},
     "output_type": "execute_result"
    }
   ],
   "source": [
    "b = np.array([[1,2],[3,4],[5,6]], dtype=np.float64)\n",
    "b.dtype"
   ]
  },
  {
   "cell_type": "markdown",
   "id": "8f768dda",
   "metadata": {},
   "source": [
    "Untuk mengubah tipe data array NumPy, Anda dapat menggunakan metode astype() yang memungkinkan Anda untuk mengonversi array ke tipe data lain. Metode ini mengembalikan salinan array dengan tipe data yang diubah.\n",
    "\n",
    "Berikut adalah contoh penggunaan metode astype() untuk mengubah tipe data array:"
   ]
  },
  {
   "cell_type": "code",
   "execution_count": 117,
   "id": "41103597",
   "metadata": {},
   "outputs": [
    {
     "data": {
      "text/plain": [
       "dtype('float64')"
      ]
     },
     "execution_count": 117,
     "metadata": {},
     "output_type": "execute_result"
    }
   ],
   "source": [
    "b = np.array([[1,2],[3,4],[5,6]])\n",
    "bint = b.astype(float)\n",
    "bint.dtype"
   ]
  },
  {
   "cell_type": "code",
   "execution_count": 120,
   "id": "9d7cfb06",
   "metadata": {},
   "outputs": [
    {
     "name": "stdout",
     "output_type": "stream",
     "text": [
      "[[1 2]\n",
      " [3 4]\n",
      " [5 6]]\n"
     ]
    },
    {
     "data": {
      "text/plain": [
       "8"
      ]
     },
     "execution_count": 120,
     "metadata": {},
     "output_type": "execute_result"
    }
   ],
   "source": [
    "print(b)\n",
    "bint.itemsize"
   ]
  },
  {
   "cell_type": "markdown",
   "id": "6300ac8a",
   "metadata": {},
   "source": [
    "catatan: maka data yang diubah akan bertype data float64 dan itemsize 8"
   ]
  },
  {
   "cell_type": "markdown",
   "id": "f5dc3e08",
   "metadata": {},
   "source": [
    "# Get Size Property (size) \n",
    "Properti size digunakan dalam NumPy untuk mengambil jumlah total elemen dalam array. Properti ini memberikan informasi tentang ukuran keseluruhan dari array.\n",
    "\n",
    "Berikut ini adalah contoh penggunaan properti size:"
   ]
  },
  {
   "cell_type": "code",
   "execution_count": 123,
   "id": "ce4a5a8c",
   "metadata": {},
   "outputs": [
    {
     "name": "stdout",
     "output_type": "stream",
     "text": [
      "['a' 'b' 'c']\n"
     ]
    },
    {
     "data": {
      "text/plain": [
       "3"
      ]
     },
     "execution_count": 123,
     "metadata": {},
     "output_type": "execute_result"
    }
   ],
   "source": [
    "print(c)\n",
    "c.size"
   ]
  },
  {
   "cell_type": "markdown",
   "id": "b848a282",
   "metadata": {},
   "source": [
    "# Get Shape Property (shape) \n",
    "Properti shape digunakan dalam NumPy untuk mengambil tuple yang menunjukkan dimensi dari array. Properti ini memberikan informasi tentang ukuran setiap dimensi dalam array.\n",
    "\n",
    "Berikut ini adalah contoh penggunaan properti shape:"
   ]
  },
  {
   "cell_type": "code",
   "execution_count": 42,
   "id": "edb11fb5",
   "metadata": {},
   "outputs": [
    {
     "data": {
      "text/plain": [
       "(3, 2)"
      ]
     },
     "execution_count": 42,
     "metadata": {},
     "output_type": "execute_result"
    }
   ],
   "source": [
    "b.shape"
   ]
  },
  {
   "cell_type": "markdown",
   "id": "5a4e6786",
   "metadata": {},
   "source": [
    "Array b memiliki dimensi (3, 2), yang menunjukkan bahwa itu adalah array dua dimensi dengan 3 baris dan 2 kolom."
   ]
  },
  {
   "cell_type": "markdown",
   "id": "d39e9725",
   "metadata": {},
   "source": [
    "# Zeros() Function\n",
    "Fungsi zeros() dalam NumPy digunakan untuk membuat array berisi nol dengan ukuran dan tipe data yang ditentukan.\n",
    "\n",
    "Berikut adalah contoh penggunaan zeros():"
   ]
  },
  {
   "cell_type": "code",
   "execution_count": 51,
   "id": "b4246f2e",
   "metadata": {},
   "outputs": [
    {
     "data": {
      "text/plain": [
       "array([[0., 0., 0., 0.],\n",
       "       [0., 0., 0., 0.],\n",
       "       [0., 0., 0., 0.]])"
      ]
     },
     "execution_count": 51,
     "metadata": {},
     "output_type": "execute_result"
    }
   ],
   "source": [
    "np.zeros((3,4))"
   ]
  },
  {
   "cell_type": "markdown",
   "id": "c8d29c84",
   "metadata": {},
   "source": [
    "# Ones() Function\n",
    "Anda ingin membuat array yang berisi satu dengan ukuran dan tipe data yang ditentukan, Anda dapat menggunakan fungsi ones().\n",
    "\n",
    "Berikut adalah contoh penggunaan ones():"
   ]
  },
  {
   "cell_type": "code",
   "execution_count": 53,
   "id": "b05e088c",
   "metadata": {},
   "outputs": [
    {
     "data": {
      "text/plain": [
       "array([[1., 1., 1., 1.],\n",
       "       [1., 1., 1., 1.],\n",
       "       [1., 1., 1., 1.]])"
      ]
     },
     "execution_count": 53,
     "metadata": {},
     "output_type": "execute_result"
    }
   ],
   "source": [
    "\n",
    "np.ones((3,4))"
   ]
  },
  {
   "cell_type": "markdown",
   "id": "898ab6f0",
   "metadata": {},
   "source": [
    "# Range() Function\n",
    "\n",
    "Fungsi range() adalah fungsi bawaan dalam Python yang digunakan untuk menghasilkan urutan bilangan. Namun, dalam konteks NumPy, fungsi range() tidak ada. NumPy menyediakan fungsi lain yang mirip, yaitu arange().\n",
    "\n",
    "Fungsi arange() dalam NumPy digunakan untuk menghasilkan urutan bilangan dalam array berdasarkan interval yang ditentukan."
   ]
  },
  {
   "cell_type": "code",
   "execution_count": 4,
   "id": "16391b6f",
   "metadata": {},
   "outputs": [
    {
     "name": "stdout",
     "output_type": "stream",
     "text": [
      "range(0, 5)\n"
     ]
    }
   ],
   "source": [
    "i = range(5)\n",
    "print(i)"
   ]
  },
  {
   "cell_type": "code",
   "execution_count": 57,
   "id": "12992c37",
   "metadata": {},
   "outputs": [
    {
     "data": {
      "text/plain": [
       "0"
      ]
     },
     "execution_count": 57,
     "metadata": {},
     "output_type": "execute_result"
    }
   ],
   "source": [
    "i[0]"
   ]
  },
  {
   "cell_type": "code",
   "execution_count": 137,
   "id": "470a13fe",
   "metadata": {},
   "outputs": [
    {
     "data": {
      "text/plain": [
       "4"
      ]
     },
     "execution_count": 137,
     "metadata": {},
     "output_type": "execute_result"
    }
   ],
   "source": [
    "i[4]"
   ]
  },
  {
   "cell_type": "markdown",
   "id": "85d8794b",
   "metadata": {},
   "source": [
    "Berikut adalah contoh penggunaan arange():"
   ]
  },
  {
   "cell_type": "code",
   "execution_count": 59,
   "id": "2eb1267f",
   "metadata": {},
   "outputs": [
    {
     "data": {
      "text/plain": [
       "array([1, 2, 3, 4])"
      ]
     },
     "execution_count": 59,
     "metadata": {},
     "output_type": "execute_result"
    }
   ],
   "source": [
    "np.arange(1,5)"
   ]
  },
  {
   "cell_type": "code",
   "execution_count": 60,
   "id": "f886b27d",
   "metadata": {},
   "outputs": [
    {
     "data": {
      "text/plain": [
       "array([1, 3])"
      ]
     },
     "execution_count": 60,
     "metadata": {},
     "output_type": "execute_result"
    }
   ],
   "source": [
    "np.arange(1,5,2)"
   ]
  },
  {
   "cell_type": "markdown",
   "id": "e9dce86e",
   "metadata": {},
   "source": [
    "catatan : Start = 1 ,Stop = 5 , dan Interval = 2"
   ]
  },
  {
   "cell_type": "markdown",
   "id": "ba5727cd",
   "metadata": {},
   "source": [
    "Fungsi arange() juga dapat digunakan dengan parameter opsional dtype untuk menentukan tipe data array yang dihasilkan."
   ]
  },
  {
   "cell_type": "code",
   "execution_count": 138,
   "id": "f8956696",
   "metadata": {},
   "outputs": [
    {
     "name": "stdout",
     "output_type": "stream",
     "text": [
      "[0.  0.1 0.2 0.3 0.4 0.5 0.6 0.7 0.8 0.9]\n"
     ]
    }
   ],
   "source": [
    "k = np.arange(0, 1, 0.1, dtype=float)\n",
    "print(k)"
   ]
  },
  {
   "cell_type": "markdown",
   "id": "23ebea23",
   "metadata": {},
   "source": [
    "# Linespace() Function\n",
    "Fungsi linspace() dalam NumPy digunakan untuk menghasilkan urutan bilangan dalam array dengan jumlah titik yang ditentukan secara merata di antara dua nilai tertentu.\n",
    "\n",
    "Berikut adalah contoh penggunaan linspace():"
   ]
  },
  {
   "cell_type": "code",
   "execution_count": 139,
   "id": "4408023e",
   "metadata": {},
   "outputs": [
    {
     "data": {
      "text/plain": [
       "array([1.        , 1.44444444, 1.88888889, 2.33333333, 2.77777778,\n",
       "       3.22222222, 3.66666667, 4.11111111, 4.55555556, 5.        ])"
      ]
     },
     "execution_count": 139,
     "metadata": {},
     "output_type": "execute_result"
    }
   ],
   "source": [
    "np.linspace(1,5,10)"
   ]
  },
  {
   "cell_type": "code",
   "execution_count": 140,
   "id": "5b71e418",
   "metadata": {},
   "outputs": [
    {
     "data": {
      "text/plain": [
       "array([1., 2., 3., 4., 5.])"
      ]
     },
     "execution_count": 140,
     "metadata": {},
     "output_type": "execute_result"
    }
   ],
   "source": [
    "np.linspace(1,5,5)"
   ]
  },
  {
   "cell_type": "code",
   "execution_count": 141,
   "id": "1182ef3b",
   "metadata": {},
   "outputs": [
    {
     "name": "stdout",
     "output_type": "stream",
     "text": [
      "[0.   0.25 0.5  0.75 1.  ]\n"
     ]
    }
   ],
   "source": [
    "a = np.linspace(0, 1, 5)\n",
    "print(a)"
   ]
  },
  {
   "cell_type": "markdown",
   "id": "fc1acbd9",
   "metadata": {},
   "source": [
    "# Reshape() Function\n",
    "Fungsi reshape() dalam NumPy digunakan untuk mengubah bentuk (shape) dari suatu array, yaitu mengatur ulang dimensi array tanpa mengubah data yang ada.\n",
    "\n",
    "Berikut adalah contoh penggunaan reshape():"
   ]
  },
  {
   "cell_type": "code",
   "execution_count": 144,
   "id": "9d182f79",
   "metadata": {},
   "outputs": [
    {
     "name": "stdout",
     "output_type": "stream",
     "text": [
      "[[1 2]\n",
      " [3 4]\n",
      " [5 6]]\n"
     ]
    }
   ],
   "source": [
    "var = np.array([[1,2],[3,4],[5,6]])\n",
    "print(var)"
   ]
  },
  {
   "cell_type": "code",
   "execution_count": 145,
   "id": "2a63f0be",
   "metadata": {},
   "outputs": [
    {
     "data": {
      "text/plain": [
       "(3, 2)"
      ]
     },
     "execution_count": 145,
     "metadata": {},
     "output_type": "execute_result"
    }
   ],
   "source": [
    "var.shape"
   ]
  },
  {
   "cell_type": "code",
   "execution_count": 146,
   "id": "bc4fd2dc",
   "metadata": {},
   "outputs": [
    {
     "data": {
      "text/plain": [
       "array([[1, 2, 3],\n",
       "       [4, 5, 6]])"
      ]
     },
     "execution_count": 146,
     "metadata": {},
     "output_type": "execute_result"
    }
   ],
   "source": [
    "var.reshape(2,3)"
   ]
  },
  {
   "cell_type": "markdown",
   "id": "0c992124",
   "metadata": {},
   "source": [
    "catatan : Mengubah Row dan Coloumn"
   ]
  },
  {
   "cell_type": "markdown",
   "id": "496674c1",
   "metadata": {},
   "source": [
    "# Ravel() Function\n",
    "Fungsi ravel() dalam NumPy digunakan untuk mengubah array multidimensi menjadi array 1D. Fungsi ini menghasilkan tampilan yang \"diratakan\" dari array asli, yaitu membuat array baru yang berisi semua elemen array asli dalam urutan yang sama.\n",
    "\n",
    "Berikut adalah contoh penggunaan ravel():"
   ]
  },
  {
   "cell_type": "code",
   "execution_count": 147,
   "id": "8439cfea",
   "metadata": {},
   "outputs": [
    {
     "data": {
      "text/plain": [
       "array([1, 2, 3, 4, 5, 6])"
      ]
     },
     "execution_count": 147,
     "metadata": {},
     "output_type": "execute_result"
    }
   ],
   "source": [
    "var.ravel()"
   ]
  },
  {
   "cell_type": "code",
   "execution_count": 148,
   "id": "3903a3cf",
   "metadata": {},
   "outputs": [
    {
     "name": "stdout",
     "output_type": "stream",
     "text": [
      "[[1 2]\n",
      " [3 4]\n",
      " [5 6]]\n"
     ]
    }
   ],
   "source": [
    "print(var)"
   ]
  },
  {
   "cell_type": "markdown",
   "id": "b9164f76",
   "metadata": {},
   "source": [
    "# Statistics"
   ]
  },
  {
   "cell_type": "code",
   "execution_count": 149,
   "id": "f40694fb",
   "metadata": {},
   "outputs": [
    {
     "name": "stdout",
     "output_type": "stream",
     "text": [
      "[[1 2]\n",
      " [3 4]\n",
      " [5 6]]\n"
     ]
    }
   ],
   "source": [
    "print(var)"
   ]
  },
  {
   "cell_type": "markdown",
   "id": "de6c0149",
   "metadata": {},
   "source": [
    "Min() Function :  Menghitung nilai minimum dari array."
   ]
  },
  {
   "cell_type": "code",
   "execution_count": 167,
   "id": "c6be4393",
   "metadata": {},
   "outputs": [
    {
     "name": "stdout",
     "output_type": "stream",
     "text": [
      "1\n"
     ]
    }
   ],
   "source": [
    "var.min()\n",
    "print(np.min(var))"
   ]
  },
  {
   "cell_type": "markdown",
   "id": "1c29c3f7",
   "metadata": {},
   "source": [
    "Max() Funtion : Menghitung nilai maksimum dari array."
   ]
  },
  {
   "cell_type": "code",
   "execution_count": 168,
   "id": "844d5cad",
   "metadata": {},
   "outputs": [
    {
     "data": {
      "text/plain": [
       "6"
      ]
     },
     "execution_count": 168,
     "metadata": {},
     "output_type": "execute_result"
    }
   ],
   "source": [
    "var.max()"
   ]
  },
  {
   "cell_type": "markdown",
   "id": "a5143fe0",
   "metadata": {},
   "source": [
    "mean() Function : Menghitung nilai rata-rata dari array."
   ]
  },
  {
   "cell_type": "code",
   "execution_count": 152,
   "id": "78630a8f",
   "metadata": {},
   "outputs": [
    {
     "data": {
      "text/plain": [
       "3.5"
      ]
     },
     "execution_count": 152,
     "metadata": {},
     "output_type": "execute_result"
    }
   ],
   "source": [
    "var.mean()"
   ]
  },
  {
   "cell_type": "markdown",
   "id": "5943025f",
   "metadata": {},
   "source": [
    "median() Function : Menghitung nilai median dari array."
   ]
  },
  {
   "cell_type": "code",
   "execution_count": 156,
   "id": "ce07fdd9",
   "metadata": {},
   "outputs": [
    {
     "name": "stdout",
     "output_type": "stream",
     "text": [
      "6.0\n",
      "3.5\n"
     ]
    }
   ],
   "source": [
    "me = np.array([2, 4, 6, 8, 10])\n",
    "print(np.median(me))\n",
    "print(np.median(var))"
   ]
  },
  {
   "cell_type": "markdown",
   "id": "8d4bca5c",
   "metadata": {},
   "source": [
    "Sum() Function : Menghitung jumlah dari semua elemen dalam array."
   ]
  },
  {
   "cell_type": "code",
   "execution_count": 169,
   "id": "62082ecb",
   "metadata": {},
   "outputs": [
    {
     "data": {
      "text/plain": [
       "21"
      ]
     },
     "execution_count": 169,
     "metadata": {},
     "output_type": "execute_result"
    }
   ],
   "source": [
    "var.sum()"
   ]
  },
  {
   "cell_type": "code",
   "execution_count": 159,
   "id": "2213557b",
   "metadata": {},
   "outputs": [
    {
     "name": "stdout",
     "output_type": "stream",
     "text": [
      "[[1 2]\n",
      " [3 4]\n",
      " [5 6]]\n"
     ]
    }
   ],
   "source": [
    "print(var)"
   ]
  },
  {
   "cell_type": "code",
   "execution_count": 158,
   "id": "af5e31df",
   "metadata": {},
   "outputs": [
    {
     "data": {
      "text/plain": [
       "array([ 9, 12])"
      ]
     },
     "execution_count": 158,
     "metadata": {},
     "output_type": "execute_result"
    }
   ],
   "source": [
    "#catatan : Menghitung Jumlah Baris\n",
    "var.sum(axis=0)"
   ]
  },
  {
   "cell_type": "code",
   "execution_count": 173,
   "id": "98e980a2",
   "metadata": {},
   "outputs": [
    {
     "data": {
      "text/plain": [
       "array([ 3,  7, 11])"
      ]
     },
     "execution_count": 173,
     "metadata": {},
     "output_type": "execute_result"
    }
   ],
   "source": [
    "#catatan : Menghitung Jumlah Kolom\n",
    "var.sum(axis=1)"
   ]
  },
  {
   "cell_type": "markdown",
   "id": "1627ee36",
   "metadata": {},
   "source": [
    "Var() Function : Menghitung variansi dari array."
   ]
  },
  {
   "cell_type": "code",
   "execution_count": 172,
   "id": "337a68c4",
   "metadata": {},
   "outputs": [
    {
     "name": "stdout",
     "output_type": "stream",
     "text": [
      "2.9166666666666665\n"
     ]
    }
   ],
   "source": [
    "print(np.var(var))"
   ]
  },
  {
   "cell_type": "markdown",
   "id": "66a1c861",
   "metadata": {},
   "source": [
    "Sqrt() Function : "
   ]
  },
  {
   "cell_type": "code",
   "execution_count": 160,
   "id": "f98a79fa",
   "metadata": {},
   "outputs": [
    {
     "data": {
      "text/plain": [
       "array([[1.        , 1.41421356],\n",
       "       [1.73205081, 2.        ],\n",
       "       [2.23606798, 2.44948974]])"
      ]
     },
     "execution_count": 160,
     "metadata": {},
     "output_type": "execute_result"
    }
   ],
   "source": [
    "#var = np.array([[1,2],[3,4],[5,6]])\n",
    "np.sqrt(var)"
   ]
  },
  {
   "cell_type": "markdown",
   "id": "903712da",
   "metadata": {},
   "source": [
    "Std() Function : Menghitung deviasi standar dari array."
   ]
  },
  {
   "cell_type": "code",
   "execution_count": 174,
   "id": "93550b1a",
   "metadata": {},
   "outputs": [
    {
     "data": {
      "text/plain": [
       "1.707825127659933"
      ]
     },
     "execution_count": 174,
     "metadata": {},
     "output_type": "execute_result"
    }
   ],
   "source": [
    "np.std(var)"
   ]
  },
  {
   "cell_type": "markdown",
   "id": "b088493f",
   "metadata": {},
   "source": [
    "# Operations in array (Aritmatika)\n",
    "Operasi-operasi pada array, terutama dalam konteks numpy, sangat berguna dalam pengolahan data numerik. Berikut ini adalah beberapa operasi umum yang dapat dilakukan pada array:"
   ]
  },
  {
   "cell_type": "code",
   "execution_count": 98,
   "id": "a53cfbe7",
   "metadata": {},
   "outputs": [
    {
     "name": "stdout",
     "output_type": "stream",
     "text": [
      "[[7 2]\n",
      " [3 4]]\n"
     ]
    }
   ],
   "source": [
    "a = np.array([[7,2],[3,4]])\n",
    "print(a)"
   ]
  },
  {
   "cell_type": "code",
   "execution_count": 97,
   "id": "678ca28e",
   "metadata": {},
   "outputs": [
    {
     "name": "stdout",
     "output_type": "stream",
     "text": [
      "[[1 3]\n",
      " [3 7]]\n"
     ]
    }
   ],
   "source": [
    "b = np.array([[1,3],[3,7]])\n",
    "print(b)"
   ]
  },
  {
   "cell_type": "markdown",
   "id": "ae4100a6",
   "metadata": {},
   "source": [
    "penjumlahan :"
   ]
  },
  {
   "cell_type": "code",
   "execution_count": 99,
   "id": "02590c8b",
   "metadata": {},
   "outputs": [
    {
     "name": "stdout",
     "output_type": "stream",
     "text": [
      "[[ 8  5]\n",
      " [ 6 11]]\n"
     ]
    }
   ],
   "source": [
    "print(a+b)"
   ]
  },
  {
   "cell_type": "markdown",
   "id": "69da90a6",
   "metadata": {},
   "source": [
    "pengurangan : "
   ]
  },
  {
   "cell_type": "code",
   "execution_count": 100,
   "id": "c471fc5c",
   "metadata": {},
   "outputs": [
    {
     "name": "stdout",
     "output_type": "stream",
     "text": [
      "[[ 6 -1]\n",
      " [ 0 -3]]\n"
     ]
    }
   ],
   "source": [
    "print(a-b)"
   ]
  },
  {
   "cell_type": "markdown",
   "id": "926cf3af",
   "metadata": {},
   "source": [
    "pembagian :"
   ]
  },
  {
   "cell_type": "code",
   "execution_count": 101,
   "id": "4fb643c3",
   "metadata": {},
   "outputs": [
    {
     "name": "stdout",
     "output_type": "stream",
     "text": [
      "[[7.         0.66666667]\n",
      " [1.         0.57142857]]\n"
     ]
    }
   ],
   "source": [
    "print(a/b)"
   ]
  },
  {
   "cell_type": "markdown",
   "id": "c34a459a",
   "metadata": {},
   "source": [
    "perkalian : "
   ]
  },
  {
   "cell_type": "code",
   "execution_count": 102,
   "id": "1a539847",
   "metadata": {},
   "outputs": [
    {
     "name": "stdout",
     "output_type": "stream",
     "text": [
      "[[ 7  6]\n",
      " [ 9 28]]\n"
     ]
    }
   ],
   "source": [
    "print(a*b)"
   ]
  },
  {
   "cell_type": "markdown",
   "id": "fbf95ad2",
   "metadata": {},
   "source": [
    "# Matrix products dot()\n",
    "Metode dot() dalam NumPy digunakan untuk melakukan perkalian matriks antara dua array multidimensi. Operasi ini menghasilkan hasil kali dot antara dua matriks.\n",
    "\n",
    "Berikut ini adalah contoh penggunaan metode dot() untuk melakukan perkalian matriks:"
   ]
  },
  {
   "cell_type": "code",
   "execution_count": 132,
   "id": "204ea3ae",
   "metadata": {},
   "outputs": [
    {
     "name": "stdout",
     "output_type": "stream",
     "text": [
      "[[7 2]\n",
      " [3 4]]\n",
      "[[1 3]\n",
      " [3 7]]\n"
     ]
    },
    {
     "data": {
      "text/plain": [
       "array([[13, 35],\n",
       "       [15, 37]])"
      ]
     },
     "execution_count": 132,
     "metadata": {},
     "output_type": "execute_result"
    }
   ],
   "source": [
    "z = np.array([[7,2],[3,4]])\n",
    "print(z)\n",
    "x = np.array([[1,3],[3,7]])\n",
    "print(x)\n",
    "z.dot(x)"
   ]
  },
  {
   "cell_type": "markdown",
   "id": "f977030d",
   "metadata": {},
   "source": [
    "Elemen pada baris pertama, kolom pertama:\n",
    "7 * 1 + 2 * 3 = 7 + 6 = 13\n",
    "\n",
    "Elemen pada baris pertama, kolom kedua:\n",
    "7 * 3 + 2 * 7 = 21 + 14 = 35\n",
    "\n",
    "Elemen pada baris kedua, kolom pertama:\n",
    "3 * 1 + 4 * 3 = 3 + 12 = 15\n",
    "\n",
    "Elemen pada baris kedua, kolom kedua:\n",
    "3 * 3 + 4 * 7 = 9 + 28 = 37\n"
   ]
  },
  {
   "cell_type": "code",
   "execution_count": null,
   "id": "c5e4dc3e",
   "metadata": {},
   "outputs": [],
   "source": []
  }
 ],
 "metadata": {
  "kernelspec": {
   "display_name": "Python 3 (ipykernel)",
   "language": "python",
   "name": "python3"
  },
  "language_info": {
   "codemirror_mode": {
    "name": "ipython",
    "version": 3
   },
   "file_extension": ".py",
   "mimetype": "text/x-python",
   "name": "python",
   "nbconvert_exporter": "python",
   "pygments_lexer": "ipython3",
   "version": "3.10.9"
  }
 },
 "nbformat": 4,
 "nbformat_minor": 5
}
