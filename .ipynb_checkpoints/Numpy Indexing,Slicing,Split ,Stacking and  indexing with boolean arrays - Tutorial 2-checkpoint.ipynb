{
 "cells": [
  {
   "cell_type": "markdown",
   "id": "11604718",
   "metadata": {},
   "source": [
    "Di NumPy, Anda dapat menggunakan indexing, slicing, dan iterasi untuk mengakses dan memanipulasi array secara efisien. Berikut adalah penjelasan singkat tentang masing-masing konsep:"
   ]
  },
  {
   "cell_type": "markdown",
   "id": "74b5de31",
   "metadata": {},
   "source": [
    "# Indexing:\n",
    "Dalam NumPy, indexing digunakan untuk mengakses elemen tertentu dalam array dengan mengacu pada posisi atau indeksnya. Anda dapat menggunakan indeks tunggal atau indeks multi-dimensi untuk mengakses elemen-elemen tersebut. Misalnya:"
   ]
  },
  {
   "cell_type": "code",
   "execution_count": 1,
   "id": "4a1b0a2f",
   "metadata": {},
   "outputs": [],
   "source": [
    "import numpy as np"
   ]
  },
  {
   "cell_type": "code",
   "execution_count": 7,
   "id": "563e626e",
   "metadata": {},
   "outputs": [
    {
     "name": "stdout",
     "output_type": "stream",
     "text": [
      "10\n",
      "[10 20]\n",
      "50\n"
     ]
    }
   ],
   "source": [
    "arr = np.array([10,20,30,40,50])\n",
    "print(arr[0]) #angka pertama\n",
    "print(arr[0:2]) #angka ke 30 not include\n",
    "print(arr[-1]) #angka terakhir "
   ]
  },
  {
   "cell_type": "code",
   "execution_count": 6,
   "id": "a5235d5c",
   "metadata": {},
   "outputs": [
    {
     "name": "stdout",
     "output_type": "stream",
     "text": [
      "[[1 2 3]\n",
      " [4 5 6]]\n",
      "6\n"
     ]
    }
   ],
   "source": [
    "arr2 = np.array([[1,2,3],[4,5,6]])\n",
    "print(arr2)\n",
    "print(arr2[1,2]) #baris ke 1 dan kolom ke 2"
   ]
  },
  {
   "cell_type": "markdown",
   "id": "47cc4c78",
   "metadata": {},
   "source": [
    "# Slicing:\n",
    "Slicing digunakan untuk mengambil subarray (potongan) dari array asli dengan menentukan rentang indeks tertentu. Anda dapat memotong array dalam satu dimensi atau multi-dimensi. Misalnya:"
   ]
  },
  {
   "cell_type": "code",
   "execution_count": 9,
   "id": "3b405146",
   "metadata": {},
   "outputs": [
    {
     "name": "stdout",
     "output_type": "stream",
     "text": [
      "[20 30 40]\n"
     ]
    }
   ],
   "source": [
    "arr3 = np.array([10,20,30,40,50])\n",
    "print(arr[1:4])"
   ]
  },
  {
   "cell_type": "code",
   "execution_count": 15,
   "id": "a663a51a",
   "metadata": {},
   "outputs": [
    {
     "name": "stdout",
     "output_type": "stream",
     "text": [
      "[[4 5]\n",
      " [7 8]]\n",
      "=========================\n",
      "[7 8]\n",
      "=========================\n",
      "[3 6]\n",
      "=========================\n",
      "[[2 3]\n",
      " [5 6]\n",
      " [8 9]]\n"
     ]
    }
   ],
   "source": [
    "arr4 = np.array([[1, 2, 3], [4, 5, 6], [7, 8, 9]])\n",
    "print(arr4[1:3,0:2])\n",
    "print(\"=========================\")\n",
    "print(arr4[-1,0:2])\n",
    "print(\"=========================\")\n",
    "print(arr4[0:2,2])\n",
    "print(\"=========================\")\n",
    "print(arr4[:,1:3])"
   ]
  },
  {
   "cell_type": "markdown",
   "id": "97be495b",
   "metadata": {},
   "source": [
    "# Iterasi:\n",
    "NumPy array mendukung iterasi menggunakan loop for atau fungsi numpy.nditer(). Anda dapat mengakses setiap elemen array secara terpisah untuk melakukan operasi yang diperlukan. Contoh:\n"
   ]
  },
  {
   "cell_type": "code",
   "execution_count": 16,
   "id": "1c0cf4f3",
   "metadata": {},
   "outputs": [
    {
     "name": "stdout",
     "output_type": "stream",
     "text": [
      "10\n",
      "20\n",
      "30\n",
      "40\n",
      "50\n"
     ]
    }
   ],
   "source": [
    "arr5 = np.array([10, 20, 30, 40, 50])\n",
    "for x in arr5:\n",
    "    print(x)"
   ]
  },
  {
   "cell_type": "code",
   "execution_count": 18,
   "id": "d025b6e1",
   "metadata": {},
   "outputs": [
    {
     "name": "stdout",
     "output_type": "stream",
     "text": [
      "1\n",
      "2\n",
      "3\n",
      "4\n",
      "5\n",
      "6\n"
     ]
    }
   ],
   "source": [
    "arr6 = np.array([[1, 2, 3], [4, 5, 6]])\n",
    "for x in np.nditer(arr2):\n",
    "    print(x)"
   ]
  },
  {
   "cell_type": "markdown",
   "id": "46898ceb",
   "metadata": {},
   "source": [
    "# Stacking\n",
    "Dalam NumPy, Anda dapat menggunakan fungsi numpy.stack() untuk melakukan stacking (penggabungan) array secara horizontal atau vertical. Stacking memungkinkan Anda menggabungkan beberapa array menjadi satu array yang baru.\n",
    "\n",
    "Berikut adalah penjelasan singkat tentang stacking dalam NumPy:"
   ]
  },
  {
   "cell_type": "markdown",
   "id": "a696fa42",
   "metadata": {},
   "source": [
    "# 1.Horizontal Stacking"
   ]
  },
  {
   "cell_type": "code",
   "execution_count": 19,
   "id": "d3e1b983",
   "metadata": {},
   "outputs": [],
   "source": [
    "a=np.arange(6).reshape(3,2)\n",
    "a=np.arange(6).reshape(3,2)\n",
    "print(a)\n",
    "print(b)"
   ]
  },
  {
   "cell_type": "code",
   "execution_count": null,
   "id": "b04723a6",
   "metadata": {},
   "outputs": [],
   "source": []
  }
 ],
 "metadata": {
  "kernelspec": {
   "display_name": "Python 3 (ipykernel)",
   "language": "python",
   "name": "python3"
  },
  "language_info": {
   "codemirror_mode": {
    "name": "ipython",
    "version": 3
   },
   "file_extension": ".py",
   "mimetype": "text/x-python",
   "name": "python",
   "nbconvert_exporter": "python",
   "pygments_lexer": "ipython3",
   "version": "3.10.9"
  }
 },
 "nbformat": 4,
 "nbformat_minor": 5
}
