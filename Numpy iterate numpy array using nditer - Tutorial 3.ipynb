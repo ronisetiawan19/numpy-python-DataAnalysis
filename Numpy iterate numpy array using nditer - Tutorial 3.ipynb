{
 "cells": [
  {
   "cell_type": "code",
   "execution_count": 3,
   "id": "1ead8b6b",
   "metadata": {},
   "outputs": [],
   "source": [
    "import numpy as np"
   ]
  },
  {
   "cell_type": "markdown",
   "id": "c6f17611",
   "metadata": {},
   "source": [
    "# Iterasi:\n",
    "NumPy array mendukung iterasi menggunakan loop for atau fungsi numpy.nditer(). Anda dapat mengakses setiap elemen array secara terpisah untuk melakukan operasi yang diperlukan. Contoh:\n"
   ]
  },
  {
   "cell_type": "markdown",
   "id": "8f9d1b74",
   "metadata": {},
   "source": [
    "# 1.Iterasi dengan for loop:\n",
    "Anda dapat menggunakan for loop untuk mengiterasi melalui elemen-elemen dalam array NumPy. Dalam hal ini, setiap iterasi akan memberikan akses langsung ke elemen-elemen tersebut. Contoh:"
   ]
  },
  {
   "cell_type": "code",
   "execution_count": 4,
   "id": "2620bddf",
   "metadata": {},
   "outputs": [
    {
     "name": "stdout",
     "output_type": "stream",
     "text": [
      "10\n",
      "20\n",
      "30\n",
      "40\n",
      "50\n"
     ]
    }
   ],
   "source": [
    "arr5 = np.array([10, 20, 30, 40, 50])\n",
    "for x in arr5:\n",
    "    print(x)"
   ]
  },
  {
   "cell_type": "code",
   "execution_count": 11,
   "id": "b3057d92",
   "metadata": {},
   "outputs": [
    {
     "data": {
      "text/plain": [
       "array([[ 0,  1,  2,  3],\n",
       "       [ 4,  5,  6,  7],\n",
       "       [ 8,  9, 10, 11]])"
      ]
     },
     "execution_count": 11,
     "metadata": {},
     "output_type": "execute_result"
    }
   ],
   "source": [
    "a = np.arange(12).reshape(3,4)\n",
    "a"
   ]
  },
  {
   "cell_type": "code",
   "execution_count": 13,
   "id": "1f041818",
   "metadata": {},
   "outputs": [
    {
     "name": "stdout",
     "output_type": "stream",
     "text": [
      "0\n",
      "1\n",
      "2\n",
      "3\n",
      "4\n",
      "5\n",
      "6\n",
      "7\n",
      "8\n",
      "9\n",
      "10\n",
      "11\n"
     ]
    }
   ],
   "source": [
    "for row in a:\n",
    "    for cell in row:\n",
    "        print(cell)"
   ]
  },
  {
   "cell_type": "markdown",
   "id": "c9b2a36b",
   "metadata": {},
   "source": [
    "# Use flatten()"
   ]
  },
  {
   "cell_type": "code",
   "execution_count": 14,
   "id": "2c9cd6b6",
   "metadata": {},
   "outputs": [
    {
     "name": "stdout",
     "output_type": "stream",
     "text": [
      "0\n",
      "1\n",
      "2\n",
      "3\n",
      "4\n",
      "5\n",
      "6\n",
      "7\n",
      "8\n",
      "9\n",
      "10\n",
      "11\n"
     ]
    }
   ],
   "source": [
    "for cell in a.flatten():\n",
    "    print(cell)"
   ]
  },
  {
   "cell_type": "markdown",
   "id": "5d96da8d",
   "metadata": {},
   "source": [
    "# 2.Iterasi dengan numpy.nditer():\n",
    "Fungsi numpy.nditer() digunakan untuk melakukan iterasi melalui elemen-elemen dalam array NumPy dengan lebih fleksibel. Dengan numpy.nditer(), Anda dapat mengatur berbagai opsi iterasi, seperti menentukan urutan iterasi, mengatur langkah iterasi, dan mengontrol tipe data elemen yang dikembalikan. Contoh:"
   ]
  },
  {
   "cell_type": "code",
   "execution_count": 5,
   "id": "04ef5b94",
   "metadata": {},
   "outputs": [
    {
     "name": "stdout",
     "output_type": "stream",
     "text": [
      "1\n",
      "2\n",
      "3\n",
      "4\n",
      "5\n",
      "6\n"
     ]
    }
   ],
   "source": [
    "arr6 = np.array([[1, 2, 3], [4, 5, 6]])\n",
    "for x in np.nditer(arr6):\n",
    "    print(x)"
   ]
  },
  {
   "cell_type": "markdown",
   "id": "0f0141ae",
   "metadata": {},
   "source": [
    "\"F\" (Fortran-style):\n",
    "Ketika Anda menggunakan nilai \"F\" untuk parameter \"order\", elemen-elemen dalam array multidimensi diatur secara berurutan dalam memori dalam urutan kolom. Ini berarti elemen-elemen di setiap kolom diikuti oleh elemen-elemen pada kolom berikutnya dalam memori. Contoh:"
   ]
  },
  {
   "cell_type": "code",
   "execution_count": 21,
   "id": "8c06333b",
   "metadata": {},
   "outputs": [
    {
     "name": "stdout",
     "output_type": "stream",
     "text": [
      "1\n",
      "4\n",
      "2\n",
      "5\n",
      "3\n",
      "6\n"
     ]
    }
   ],
   "source": [
    "for x in np.nditer(arr6,order='F'):\n",
    "    print(x)"
   ]
  },
  {
   "cell_type": "markdown",
   "id": "487663c7",
   "metadata": {},
   "source": [
    "supply flags on for loop :"
   ]
  },
  {
   "cell_type": "code",
   "execution_count": 20,
   "id": "77c199f0",
   "metadata": {},
   "outputs": [
    {
     "name": "stdout",
     "output_type": "stream",
     "text": [
      "[1 4]\n",
      "[2 5]\n",
      "[3 6]\n"
     ]
    }
   ],
   "source": [
    "for x in np.nditer(arr6,order='F',flags=['external_loop']):\n",
    "    print(x)"
   ]
  },
  {
   "cell_type": "markdown",
   "id": "d8bcbfbb",
   "metadata": {},
   "source": [
    "op_flag on for loop :"
   ]
  },
  {
   "cell_type": "code",
   "execution_count": 26,
   "id": "411a4722",
   "metadata": {},
   "outputs": [],
   "source": [
    "for x in np.nditer(arr6,op_flags=['readwrite']):\n",
    "    x[...]=x*x"
   ]
  },
  {
   "cell_type": "code",
   "execution_count": 27,
   "id": "16bb45fc",
   "metadata": {},
   "outputs": [
    {
     "data": {
      "text/plain": [
       "array([[   1,   16,   81],\n",
       "       [ 256,  625, 1296]])"
      ]
     },
     "execution_count": 27,
     "metadata": {},
     "output_type": "execute_result"
    }
   ],
   "source": [
    "arr6"
   ]
  },
  {
   "cell_type": "markdown",
   "id": "af21bfcd",
   "metadata": {},
   "source": [
    " iterate two arrays :"
   ]
  },
  {
   "cell_type": "code",
   "execution_count": 28,
   "id": "eb568904",
   "metadata": {},
   "outputs": [
    {
     "data": {
      "text/plain": [
       "array([[ 3],\n",
       "       [ 7],\n",
       "       [11]])"
      ]
     },
     "execution_count": 28,
     "metadata": {},
     "output_type": "execute_result"
    }
   ],
   "source": [
    "arr7 = np.arange(3,15,4).reshape(3,1)\n",
    "arr7"
   ]
  },
  {
   "cell_type": "markdown",
   "id": "fe4ee3cb",
   "metadata": {},
   "source": [
    "Untuk mengiterasi dua array secara bersamaan dalam Python, Anda dapat menggunakan fungsi zip(). Fungsi zip() mengambil beberapa objek yang dapat diiterasi sebagai argumen dan mengembalikan iterator berupa tupel-tupel di mana setiap tupel berisi elemen-elemen yang sesuai dari objek-objek masukan."
   ]
  },
  {
   "cell_type": "code",
   "execution_count": 32,
   "id": "df266219",
   "metadata": {},
   "outputs": [
    {
     "name": "stdout",
     "output_type": "stream",
     "text": [
      "[ 1 16 81] [3]\n",
      "[ 256  625 1296] [7]\n"
     ]
    }
   ],
   "source": [
    "for x,y in zip(arr6,arr7):\n",
    "    print(x,y)"
   ]
  },
  {
   "cell_type": "code",
   "execution_count": null,
   "id": "3f2d59e6",
   "metadata": {},
   "outputs": [],
   "source": []
  }
 ],
 "metadata": {
  "kernelspec": {
   "display_name": "Python 3 (ipykernel)",
   "language": "python",
   "name": "python3"
  },
  "language_info": {
   "codemirror_mode": {
    "name": "ipython",
    "version": 3
   },
   "file_extension": ".py",
   "mimetype": "text/x-python",
   "name": "python",
   "nbconvert_exporter": "python",
   "pygments_lexer": "ipython3",
   "version": "3.10.9"
  }
 },
 "nbformat": 4,
 "nbformat_minor": 5
}
