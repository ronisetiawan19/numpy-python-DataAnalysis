{
 "cells": [
  {
   "cell_type": "code",
   "execution_count": 1,
   "id": "e2224a0a",
   "metadata": {},
   "outputs": [],
   "source": [
    "import numpy as np"
   ]
  },
  {
   "cell_type": "markdown",
   "id": "ba57f1fe",
   "metadata": {},
   "source": [
    "Di NumPy, Anda dapat menggunakan indexing, slicing, dan iterasi untuk mengakses dan memanipulasi array secara efisien. Berikut adalah penjelasan singkat tentang masing-masing konsep:"
   ]
  },
  {
   "cell_type": "markdown",
   "id": "88867269",
   "metadata": {},
   "source": [
    "# Indexing:\n",
    "Dalam NumPy, indexing digunakan untuk mengakses elemen tertentu dalam array dengan mengacu pada posisi atau indeksnya. Anda dapat menggunakan indeks tunggal atau indeks multi-dimensi untuk mengakses elemen-elemen tersebut. Misalnya:"
   ]
  },
  {
   "cell_type": "code",
   "execution_count": 7,
   "id": "5d18f643",
   "metadata": {},
   "outputs": [
    {
     "name": "stdout",
     "output_type": "stream",
     "text": [
      "10\n",
      "[10 20]\n",
      "50\n"
     ]
    }
   ],
   "source": [
    "arr = np.array([10,20,30,40,50])\n",
    "print(arr[0]) #angka pertama\n",
    "print(arr[0:2]) #angka ke 30 not include\n",
    "print(arr[-1]) #angka terakhir "
   ]
  },
  {
   "cell_type": "code",
   "execution_count": 6,
   "id": "95d02839",
   "metadata": {},
   "outputs": [
    {
     "name": "stdout",
     "output_type": "stream",
     "text": [
      "[[1 2 3]\n",
      " [4 5 6]]\n",
      "6\n"
     ]
    }
   ],
   "source": [
    "arr2 = np.array([[1,2,3],[4,5,6]])\n",
    "print(arr2)\n",
    "print(arr2[1,2]) #baris ke 1 dan kolom ke 2"
   ]
  },
  {
   "cell_type": "markdown",
   "id": "d55970f9",
   "metadata": {},
   "source": [
    "# Slicing:\n",
    "Slicing digunakan untuk mengambil subarray (potongan) dari array asli dengan menentukan rentang indeks tertentu. Anda dapat memotong array dalam satu dimensi atau multi-dimensi. Misalnya:"
   ]
  },
  {
   "cell_type": "code",
   "execution_count": 36,
   "id": "feb46373",
   "metadata": {},
   "outputs": [
    {
     "name": "stdout",
     "output_type": "stream",
     "text": [
      "[20 30 40]\n"
     ]
    }
   ],
   "source": [
    "arr3 = np.array([10,20,30,40,50])\n",
    "print(arr3[1:4])"
   ]
  },
  {
   "cell_type": "code",
   "execution_count": 15,
   "id": "6bfc0d29",
   "metadata": {},
   "outputs": [
    {
     "name": "stdout",
     "output_type": "stream",
     "text": [
      "[[4 5]\n",
      " [7 8]]\n",
      "=========================\n",
      "[7 8]\n",
      "=========================\n",
      "[3 6]\n",
      "=========================\n",
      "[[2 3]\n",
      " [5 6]\n",
      " [8 9]]\n"
     ]
    }
   ],
   "source": [
    "arr4 = np.array([[1, 2, 3], [4, 5, 6], [7, 8, 9]])\n",
    "print(arr4[1:3,0:2])\n",
    "print(\"=========================\")\n",
    "print(arr4[-1,0:2])\n",
    "print(\"=========================\")\n",
    "print(arr4[0:2,2])\n",
    "print(\"=========================\")\n",
    "print(arr4[:,1:3])"
   ]
  },
  {
   "cell_type": "markdown",
   "id": "9b4c6138",
   "metadata": {},
   "source": [
    "# Stacking\n",
    "Dalam NumPy, Anda dapat menggunakan fungsi numpy.stack() untuk melakukan stacking (penggabungan) array secara horizontal atau vertical. Stacking memungkinkan Anda menggabungkan beberapa array menjadi satu array yang baru.\n",
    "\n",
    "Berikut adalah penjelasan singkat tentang stacking dalam NumPy:"
   ]
  },
  {
   "cell_type": "markdown",
   "id": "20fd94dc",
   "metadata": {},
   "source": [
    "# 1.Horizontal Stacking"
   ]
  },
  {
   "cell_type": "code",
   "execution_count": 27,
   "id": "b67447ec",
   "metadata": {},
   "outputs": [
    {
     "name": "stdout",
     "output_type": "stream",
     "text": [
      "[1 2 3 4 5 6]\n"
     ]
    }
   ],
   "source": [
    "arr1 = np.array([1, 2, 3])\n",
    "arr2 = np.array([4, 5, 6])\n",
    "arr3 = np.hstack((arr1, arr2))\n",
    "print(arr3)"
   ]
  },
  {
   "cell_type": "markdown",
   "id": "183eecbf",
   "metadata": {},
   "source": [
    "contoh 2:"
   ]
  },
  {
   "cell_type": "code",
   "execution_count": 22,
   "id": "652dade3",
   "metadata": {
    "scrolled": true
   },
   "outputs": [
    {
     "name": "stdout",
     "output_type": "stream",
     "text": [
      "[[0 1]\n",
      " [2 3]\n",
      " [4 5]]\n",
      "[[ 6  7]\n",
      " [ 8  9]\n",
      " [10 11]]\n"
     ]
    }
   ],
   "source": [
    "a=np.arange(6).reshape(3,2)\n",
    "b=np.arange(6,12).reshape(3,2)\n",
    "print(a)\n",
    "print(b)"
   ]
  },
  {
   "cell_type": "code",
   "execution_count": 26,
   "id": "b665d76c",
   "metadata": {},
   "outputs": [
    {
     "name": "stdout",
     "output_type": "stream",
     "text": [
      "[[ 0  1  6  7]\n",
      " [ 2  3  8  9]\n",
      " [ 4  5 10 11]]\n"
     ]
    }
   ],
   "source": [
    "y=np.hstack((a,b))\n",
    "print(y)"
   ]
  },
  {
   "cell_type": "markdown",
   "id": "f8b60b6d",
   "metadata": {},
   "source": [
    "# 2.Vertical Stacking\n",
    "Vertical stacking menggabungkan array secara vertikal atau sepanjang sumbu baris. Anda dapat menggunakan fungsi numpy.vstack() atau numpy.concatenate() dengan parameter axis=0 untuk melakukan vertical stacking. Contoh:"
   ]
  },
  {
   "cell_type": "code",
   "execution_count": 28,
   "id": "e410adc4",
   "metadata": {},
   "outputs": [
    {
     "name": "stdout",
     "output_type": "stream",
     "text": [
      "[[1 2 3]\n",
      " [4 5 6]]\n"
     ]
    }
   ],
   "source": [
    "arr1 = np.array([1, 2, 3])\n",
    "arr2 = np.array([4, 5, 6])\n",
    "arr3 = np.vstack((arr1, arr2))\n",
    "# atau arr3 = np.concatenate((arr1, arr2), axis=1)\n",
    "print(arr3)"
   ]
  },
  {
   "cell_type": "markdown",
   "id": "485a2d34",
   "metadata": {},
   "source": [
    "# 3.Depth Stacking\n",
    "Depth stacking menggabungkan array secara sepanjang sumbu kedalaman atau sumbu baru. Anda dapat menggunakan fungsi numpy.dstack() untuk melakukan depth stacking. Contoh:"
   ]
  },
  {
   "cell_type": "code",
   "execution_count": 29,
   "id": "7782fb52",
   "metadata": {},
   "outputs": [
    {
     "name": "stdout",
     "output_type": "stream",
     "text": [
      "[[[1 4]\n",
      "  [2 5]\n",
      "  [3 6]]]\n"
     ]
    }
   ],
   "source": [
    "arr1 = np.array([1, 2, 3])\n",
    "arr2 = np.array([4, 5, 6])\n",
    "arr3 = np.dstack((arr1, arr2))\n",
    "print(arr3)"
   ]
  },
  {
   "cell_type": "markdown",
   "id": "8f53ef52",
   "metadata": {},
   "source": [
    "# Split\n",
    "Dalam NumPy, Anda dapat menggunakan fungsi numpy.split() untuk membagi (split) array menjadi beberapa subarray berdasarkan indeks atau posisi yang ditentukan. Fungsi ini memungkinkan Anda membagi array menjadi bagian yang lebih kecil.\n",
    "\n",
    "Berikut adalah penjelasan singkat tentang fungsi split dalam NumPy:\n",
    "\n"
   ]
  },
  {
   "cell_type": "markdown",
   "id": "21b317ea",
   "metadata": {},
   "source": [
    "# 1.Splitting Secara Horizontal\n",
    "Splitting secara horizontal membagi array menjadi subarray yang memiliki ukuran yang sama sepanjang sumbu kolom (axis 1). Anda dapat menggunakan fungsi numpy.hsplit() untuk melakukan splitting horizontal. Contoh:"
   ]
  },
  {
   "cell_type": "code",
   "execution_count": 30,
   "id": "cbeefe02",
   "metadata": {},
   "outputs": [
    {
     "name": "stdout",
     "output_type": "stream",
     "text": [
      "[array([[1, 2],\n",
      "       [5, 6]]), array([[3, 4],\n",
      "       [7, 8]])]\n"
     ]
    }
   ],
   "source": [
    "arr = np.array([[1, 2, 3, 4], [5, 6, 7, 8]])\n",
    "subarrays = np.hsplit(arr, 2)\n",
    "print(subarrays)"
   ]
  },
  {
   "cell_type": "markdown",
   "id": "52ababde",
   "metadata": {},
   "source": [
    "# 2.Splitting Secara Vertical\n",
    "Splitting secara vertical membagi array menjadi subarray yang memiliki ukuran yang sama sepanjang sumbu baris (axis 0). Anda dapat menggunakan fungsi numpy.vsplit() untuk melakukan splitting vertical. Contoh:"
   ]
  },
  {
   "cell_type": "code",
   "execution_count": 31,
   "id": "068ef801",
   "metadata": {},
   "outputs": [
    {
     "name": "stdout",
     "output_type": "stream",
     "text": [
      "[array([[1, 2, 3]]), array([[4, 5, 6]]), array([[7, 8, 9]])]\n"
     ]
    }
   ],
   "source": [
    "arr = np.array([[1, 2, 3], [4, 5, 6], [7, 8, 9]])\n",
    "subarrays = np.vsplit(arr, 3)\n",
    "print(subarrays)"
   ]
  },
  {
   "cell_type": "markdown",
   "id": "c771e535",
   "metadata": {},
   "source": [
    "# 3.Splitting Secara Custom\n",
    "Anda juga dapat melakukan splitting dengan mengatur posisi pemotongan secara manual menggunakan indeks yang ditentukan. Anda dapat menggunakan fungsi numpy.split() untuk melakukan splitting dengan indeks yang ditentukan. Contoh:"
   ]
  },
  {
   "cell_type": "code",
   "execution_count": 32,
   "id": "242f04f9",
   "metadata": {},
   "outputs": [
    {
     "name": "stdout",
     "output_type": "stream",
     "text": [
      "[array([1, 2]), array([3, 4]), array([5, 6])]\n"
     ]
    }
   ],
   "source": [
    "arr = np.array([1, 2, 3, 4, 5, 6])\n",
    "subarrays = np.split(arr, [2, 4])\n",
    "print(subarrays)"
   ]
  },
  {
   "cell_type": "markdown",
   "id": "e4714c46",
   "metadata": {},
   "source": [
    "# indexing with boolean array\n",
    "\n",
    "Dalam NumPy, Anda dapat menggunakan indeks boolean untuk mengindeks array dan memilih elemen-elemen yang sesuai dengan nilai True dalam boolean array. Ini disebut juga indexing dengan boolean array atau boolean indexing.\n",
    "\n",
    "Berikut adalah penjelasan singkat tentang indexing dengan boolean array dalam NumPy:"
   ]
  },
  {
   "cell_type": "markdown",
   "id": "01d044c1",
   "metadata": {},
   "source": [
    "# 1.Membuat Boolean Array:\n",
    "Pertama, Anda perlu membuat sebuah boolean array dengan kondisi yang ingin Anda gunakan sebagai pemilihan elemen. Misalnya:"
   ]
  },
  {
   "cell_type": "code",
   "execution_count": 33,
   "id": "23dd5470",
   "metadata": {},
   "outputs": [
    {
     "name": "stdout",
     "output_type": "stream",
     "text": [
      "[False False  True  True  True]\n"
     ]
    }
   ],
   "source": [
    "arr = np.array([1, 2, 3, 4, 5])\n",
    "bool_arr = arr > 2\n",
    "print(bool_arr)"
   ]
  },
  {
   "cell_type": "markdown",
   "id": "fb2c04b2",
   "metadata": {},
   "source": [
    "# 2.Menggunakan Boolean Array untuk Indexing:\n",
    "Setelah Anda memiliki boolean array, Anda dapat menggunakannya sebagai indeks untuk memilih elemen-elemen yang sesuai dengan nilai True dalam boolean array tersebut. Contoh:"
   ]
  },
  {
   "cell_type": "code",
   "execution_count": 34,
   "id": "444eb76a",
   "metadata": {},
   "outputs": [
    {
     "name": "stdout",
     "output_type": "stream",
     "text": [
      "[3 4 5]\n"
     ]
    }
   ],
   "source": [
    "arr = np.array([1, 2, 3, 4, 5])\n",
    "bool_arr = arr > 2\n",
    "new_arr = arr[bool_arr]\n",
    "print(new_arr)"
   ]
  },
  {
   "cell_type": "markdown",
   "id": "316c4c06",
   "metadata": {},
   "source": [
    "Anda juga dapat melakukan indexing dengan boolean array langsung tanpa variabel tambahan:"
   ]
  },
  {
   "cell_type": "code",
   "execution_count": 35,
   "id": "8ba7862b",
   "metadata": {},
   "outputs": [
    {
     "name": "stdout",
     "output_type": "stream",
     "text": [
      "[3 4 5]\n"
     ]
    }
   ],
   "source": [
    "arr = np.array([1, 2, 3, 4, 5])\n",
    "new_arr = arr[arr > 2]\n",
    "print(new_arr)"
   ]
  }
 ],
 "metadata": {
  "kernelspec": {
   "display_name": "Python 3 (ipykernel)",
   "language": "python",
   "name": "python3"
  },
  "language_info": {
   "codemirror_mode": {
    "name": "ipython",
    "version": 3
   },
   "file_extension": ".py",
   "mimetype": "text/x-python",
   "name": "python",
   "nbconvert_exporter": "python",
   "pygments_lexer": "ipython3",
   "version": "3.10.9"
  }
 },
 "nbformat": 4,
 "nbformat_minor": 5
}
